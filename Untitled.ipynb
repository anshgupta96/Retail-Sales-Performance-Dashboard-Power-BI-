{
 "cells": [
  {
   "cell_type": "code",
   "execution_count": 37,
   "id": "8fb318f9-8da5-48d0-bcdc-0127f1e29074",
   "metadata": {},
   "outputs": [],
   "source": [
    "import pandas as pd\n",
    "import numpy as np\n",
    "import seaborn as sns\n",
    "import matplotlib.pyplot as plt"
   ]
  },
  {
   "cell_type": "code",
   "execution_count": 38,
   "id": "2aee062b-f983-448b-b4de-1f1c4d681230",
   "metadata": {},
   "outputs": [
    {
     "data": {
      "text/html": [
       "<div>\n",
       "<style scoped>\n",
       "    .dataframe tbody tr th:only-of-type {\n",
       "        vertical-align: middle;\n",
       "    }\n",
       "\n",
       "    .dataframe tbody tr th {\n",
       "        vertical-align: top;\n",
       "    }\n",
       "\n",
       "    .dataframe thead th {\n",
       "        text-align: right;\n",
       "    }\n",
       "</style>\n",
       "<table border=\"1\" class=\"dataframe\">\n",
       "  <thead>\n",
       "    <tr style=\"text-align: right;\">\n",
       "      <th></th>\n",
       "      <th>Transaction ID</th>\n",
       "      <th>Customer ID</th>\n",
       "      <th>Category</th>\n",
       "      <th>Item</th>\n",
       "      <th>Price Per Unit</th>\n",
       "      <th>Quantity</th>\n",
       "      <th>Total Spent</th>\n",
       "      <th>Payment Method</th>\n",
       "      <th>Location</th>\n",
       "      <th>Transaction Date</th>\n",
       "      <th>Discount Applied</th>\n",
       "    </tr>\n",
       "  </thead>\n",
       "  <tbody>\n",
       "    <tr>\n",
       "      <th>0</th>\n",
       "      <td>TXN_6867343</td>\n",
       "      <td>CUST_09</td>\n",
       "      <td>Patisserie</td>\n",
       "      <td>Item_10_PAT</td>\n",
       "      <td>18.5</td>\n",
       "      <td>10.0</td>\n",
       "      <td>185.0</td>\n",
       "      <td>Digital Wallet</td>\n",
       "      <td>Online</td>\n",
       "      <td>2024-04-08</td>\n",
       "      <td>True</td>\n",
       "    </tr>\n",
       "    <tr>\n",
       "      <th>1</th>\n",
       "      <td>TXN_3731986</td>\n",
       "      <td>CUST_22</td>\n",
       "      <td>Milk Products</td>\n",
       "      <td>Item_17_MILK</td>\n",
       "      <td>29.0</td>\n",
       "      <td>9.0</td>\n",
       "      <td>261.0</td>\n",
       "      <td>Digital Wallet</td>\n",
       "      <td>Online</td>\n",
       "      <td>2023-07-23</td>\n",
       "      <td>True</td>\n",
       "    </tr>\n",
       "    <tr>\n",
       "      <th>2</th>\n",
       "      <td>TXN_9303719</td>\n",
       "      <td>CUST_02</td>\n",
       "      <td>Butchers</td>\n",
       "      <td>Item_12_BUT</td>\n",
       "      <td>21.5</td>\n",
       "      <td>2.0</td>\n",
       "      <td>43.0</td>\n",
       "      <td>Credit Card</td>\n",
       "      <td>Online</td>\n",
       "      <td>2022-10-05</td>\n",
       "      <td>False</td>\n",
       "    </tr>\n",
       "    <tr>\n",
       "      <th>3</th>\n",
       "      <td>TXN_9458126</td>\n",
       "      <td>CUST_06</td>\n",
       "      <td>Beverages</td>\n",
       "      <td>Item_16_BEV</td>\n",
       "      <td>27.5</td>\n",
       "      <td>9.0</td>\n",
       "      <td>247.5</td>\n",
       "      <td>Credit Card</td>\n",
       "      <td>Online</td>\n",
       "      <td>2022-05-07</td>\n",
       "      <td>NaN</td>\n",
       "    </tr>\n",
       "    <tr>\n",
       "      <th>4</th>\n",
       "      <td>TXN_4575373</td>\n",
       "      <td>CUST_05</td>\n",
       "      <td>Food</td>\n",
       "      <td>Item_6_FOOD</td>\n",
       "      <td>12.5</td>\n",
       "      <td>7.0</td>\n",
       "      <td>87.5</td>\n",
       "      <td>Digital Wallet</td>\n",
       "      <td>Online</td>\n",
       "      <td>2022-10-02</td>\n",
       "      <td>False</td>\n",
       "    </tr>\n",
       "  </tbody>\n",
       "</table>\n",
       "</div>"
      ],
      "text/plain": [
       "  Transaction ID Customer ID       Category          Item  Price Per Unit  \\\n",
       "0    TXN_6867343     CUST_09     Patisserie   Item_10_PAT            18.5   \n",
       "1    TXN_3731986     CUST_22  Milk Products  Item_17_MILK            29.0   \n",
       "2    TXN_9303719     CUST_02       Butchers   Item_12_BUT            21.5   \n",
       "3    TXN_9458126     CUST_06      Beverages   Item_16_BEV            27.5   \n",
       "4    TXN_4575373     CUST_05           Food   Item_6_FOOD            12.5   \n",
       "\n",
       "   Quantity  Total Spent  Payment Method Location Transaction Date  \\\n",
       "0      10.0        185.0  Digital Wallet   Online       2024-04-08   \n",
       "1       9.0        261.0  Digital Wallet   Online       2023-07-23   \n",
       "2       2.0         43.0     Credit Card   Online       2022-10-05   \n",
       "3       9.0        247.5     Credit Card   Online       2022-05-07   \n",
       "4       7.0         87.5  Digital Wallet   Online       2022-10-02   \n",
       "\n",
       "  Discount Applied  \n",
       "0             True  \n",
       "1             True  \n",
       "2            False  \n",
       "3              NaN  \n",
       "4            False  "
      ]
     },
     "execution_count": 38,
     "metadata": {},
     "output_type": "execute_result"
    }
   ],
   "source": [
    "dataset = pd.read_csv(r\"C:\\Users\\Ansh Gupta\\Downloads\\retail_stor\\retail_store_sales.csv\")\n",
    "dataset.head(5)"
   ]
  },
  {
   "cell_type": "code",
   "execution_count": 39,
   "id": "9c2182f9-9361-4ba3-a01a-8a225221287b",
   "metadata": {},
   "outputs": [
    {
     "data": {
      "text/plain": [
       "(12575, 11)"
      ]
     },
     "execution_count": 39,
     "metadata": {},
     "output_type": "execute_result"
    }
   ],
   "source": [
    "dataset.shape"
   ]
  },
  {
   "cell_type": "code",
   "execution_count": 69,
   "id": "ec7e2578-d10e-4833-97a9-fbddd33af70c",
   "metadata": {},
   "outputs": [
    {
     "data": {
      "text/plain": [
       "Transaction ID      0\n",
       "Customer ID         0\n",
       "Category            0\n",
       "Item                0\n",
       "Price Per Unit      0\n",
       "Quantity            0\n",
       "Total Spent         0\n",
       "Payment Method      0\n",
       "Location            0\n",
       "Transaction Date    0\n",
       "Discount Applied    0\n",
       "dtype: int64"
      ]
     },
     "execution_count": 69,
     "metadata": {},
     "output_type": "execute_result"
    }
   ],
   "source": [
    "dataset.isnull().sum()"
   ]
  },
  {
   "cell_type": "code",
   "execution_count": 41,
   "id": "e9e9ccbd-7665-4485-9997-44f3d92051c0",
   "metadata": {},
   "outputs": [
    {
     "data": {
      "text/plain": [
       "np.int64(7229)"
      ]
     },
     "execution_count": 41,
     "metadata": {},
     "output_type": "execute_result"
    }
   ],
   "source": [
    "dataset.isnull().sum().sum()"
   ]
  },
  {
   "cell_type": "code",
   "execution_count": 68,
   "id": "3440eb6a-66e8-42ff-8f2d-503635839989",
   "metadata": {},
   "outputs": [
    {
     "data": {
      "text/plain": [
       "Transaction ID      0.0\n",
       "Customer ID         0.0\n",
       "Category            0.0\n",
       "Item                0.0\n",
       "Price Per Unit      0.0\n",
       "Quantity            0.0\n",
       "Total Spent         0.0\n",
       "Payment Method      0.0\n",
       "Location            0.0\n",
       "Transaction Date    0.0\n",
       "Discount Applied    0.0\n",
       "dtype: float64"
      ]
     },
     "execution_count": 68,
     "metadata": {},
     "output_type": "execute_result"
    }
   ],
   "source": [
    "(dataset.isnull().sum()/dataset.shape[0])*100"
   ]
  },
  {
   "cell_type": "code",
   "execution_count": 43,
   "id": "7c333881-771c-4c10-9830-8b5cdee9b529",
   "metadata": {},
   "outputs": [
    {
     "data": {
      "text/plain": [
       "np.float64(5.226097957708296)"
      ]
     },
     "execution_count": 43,
     "metadata": {},
     "output_type": "execute_result"
    }
   ],
   "source": [
    "(dataset.isnull().sum().sum()/(dataset.shape[0]*dataset.shape[1]))*100"
   ]
  },
  {
   "cell_type": "code",
   "execution_count": 63,
   "id": "342c619b-c5a8-436c-8489-d65df6000b76",
   "metadata": {},
   "outputs": [
    {
     "data": {
      "image/png": "[encoded data removed]",
      "text/plain": [
       "<Figure size 640x480 with 2 Axes>"
      ]
     },
     "metadata": {},
     "output_type": "display_data"
    }
   ],
   "source": [
    "sns.heatmap(dataset.isnull())\n",
    "plt.show()"
   ]
  },
  {
   "cell_type": "code",
   "execution_count": 67,
   "id": "337f4af7-7dc3-4913-bc9d-d6da71459792",
   "metadata": {},
   "outputs": [
    {
     "name": "stdout",
     "output_type": "stream",
     "text": [
      "<class 'pandas.core.frame.DataFrame'>\n",
      "RangeIndex: 12575 entries, 0 to 12574\n",
      "Data columns (total 11 columns):\n",
      " #   Column            Non-Null Count  Dtype  \n",
      "---  ------            --------------  -----  \n",
      " 0   Transaction ID    12575 non-null  object \n",
      " 1   Customer ID       12575 non-null  object \n",
      " 2   Category          12575 non-null  object \n",
      " 3   Item              12575 non-null  object \n",
      " 4   Price Per Unit    12575 non-null  float64\n",
      " 5   Quantity          12575 non-null  float64\n",
      " 6   Total Spent       12575 non-null  float64\n",
      " 7   Payment Method    12575 non-null  object \n",
      " 8   Location          12575 non-null  object \n",
      " 9   Transaction Date  12575 non-null  object \n",
      " 10  Discount Applied  12575 non-null  object \n",
      "dtypes: float64(3), object(8)\n",
      "memory usage: 1.1+ MB\n"
     ]
    }
   ],
   "source": [
    "dataset.info()"
   ]
  },
  {
   "cell_type": "code",
   "execution_count": 46,
   "id": "541dc19a-f71c-4400-bcce-aaf8b7cdc174",
   "metadata": {},
   "outputs": [],
   "source": [
    "dataset[\"Discount Applied\"] = dataset[\"Discount Applied\"].astype(str).fillna(\"Unknown\")"
   ]
  },
  {
   "cell_type": "code",
   "execution_count": 50,
   "id": "3365be0a-1015-4b25-bb82-b2d6ccd1b9a8",
   "metadata": {},
   "outputs": [],
   "source": [
    "dataset[\"Discount Applied\"] = dataset[\"Discount Applied\"].replace(\"nan\",\"Unknown\")"
   ]
  },
  {
   "cell_type": "code",
   "execution_count": 54,
   "id": "5b8a0b39-6dd5-423e-8af8-c51fa07959da",
   "metadata": {},
   "outputs": [
    {
     "data": {
      "text/html": [
       "<div>\n",
       "<style scoped>\n",
       "    .dataframe tbody tr th:only-of-type {\n",
       "        vertical-align: middle;\n",
       "    }\n",
       "\n",
       "    .dataframe tbody tr th {\n",
       "        vertical-align: top;\n",
       "    }\n",
       "\n",
       "    .dataframe thead th {\n",
       "        text-align: right;\n",
       "    }\n",
       "</style>\n",
       "<table border=\"1\" class=\"dataframe\">\n",
       "  <thead>\n",
       "    <tr style=\"text-align: right;\">\n",
       "      <th></th>\n",
       "      <th>Price Per Unit</th>\n",
       "      <th>Quantity</th>\n",
       "      <th>Total Spent</th>\n",
       "    </tr>\n",
       "  </thead>\n",
       "  <tbody>\n",
       "    <tr>\n",
       "      <th>count</th>\n",
       "      <td>11966.000000</td>\n",
       "      <td>11971.000000</td>\n",
       "      <td>11971.000000</td>\n",
       "    </tr>\n",
       "    <tr>\n",
       "      <th>mean</th>\n",
       "      <td>23.365912</td>\n",
       "      <td>5.536380</td>\n",
       "      <td>129.652577</td>\n",
       "    </tr>\n",
       "    <tr>\n",
       "      <th>std</th>\n",
       "      <td>10.743519</td>\n",
       "      <td>2.857883</td>\n",
       "      <td>94.750697</td>\n",
       "    </tr>\n",
       "    <tr>\n",
       "      <th>min</th>\n",
       "      <td>5.000000</td>\n",
       "      <td>1.000000</td>\n",
       "      <td>5.000000</td>\n",
       "    </tr>\n",
       "    <tr>\n",
       "      <th>25%</th>\n",
       "      <td>14.000000</td>\n",
       "      <td>3.000000</td>\n",
       "      <td>51.000000</td>\n",
       "    </tr>\n",
       "    <tr>\n",
       "      <th>50%</th>\n",
       "      <td>23.000000</td>\n",
       "      <td>6.000000</td>\n",
       "      <td>108.500000</td>\n",
       "    </tr>\n",
       "    <tr>\n",
       "      <th>75%</th>\n",
       "      <td>33.500000</td>\n",
       "      <td>8.000000</td>\n",
       "      <td>192.000000</td>\n",
       "    </tr>\n",
       "    <tr>\n",
       "      <th>max</th>\n",
       "      <td>41.000000</td>\n",
       "      <td>10.000000</td>\n",
       "      <td>410.000000</td>\n",
       "    </tr>\n",
       "  </tbody>\n",
       "</table>\n",
       "</div>"
      ],
      "text/plain": [
       "       Price Per Unit      Quantity   Total Spent\n",
       "count    11966.000000  11971.000000  11971.000000\n",
       "mean        23.365912      5.536380    129.652577\n",
       "std         10.743519      2.857883     94.750697\n",
       "min          5.000000      1.000000      5.000000\n",
       "25%         14.000000      3.000000     51.000000\n",
       "50%         23.000000      6.000000    108.500000\n",
       "75%         33.500000      8.000000    192.000000\n",
       "max         41.000000     10.000000    410.000000"
      ]
     },
     "execution_count": 54,
     "metadata": {},
     "output_type": "execute_result"
    }
   ],
   "source": [
    "dataset.describe()"
   ]
  },
  {
   "cell_type": "code",
   "execution_count": 12,
   "id": "278e34dc-410d-4303-8f43-a40f9dd54416",
   "metadata": {},
   "outputs": [
    {
     "data": {
      "image/png": "[encoded data removed]",
      "text/plain": [
       "<Figure size 640x480 with 1 Axes>"
      ]
     },
     "metadata": {},
     "output_type": "display_data"
    }
   ],
   "source": [
    "sns.boxplot(x = 'Price Per Unit',data=dataset)\n",
    "plt.show()"
   ]
  },
  {
   "cell_type": "code",
   "execution_count": 55,
   "id": "004af8ff-4ed3-4fc9-bc76-894a476932dd",
   "metadata": {},
   "outputs": [
    {
     "data": {
      "text/plain": [
       "np.float64(141.0)"
      ]
     },
     "execution_count": 55,
     "metadata": {},
     "output_type": "execute_result"
    }
   ],
   "source": [
    "Q1 = dataset['Total Spent'].quantile(0.25)\n",
    "Q3 = dataset['Total Spent'].quantile(0.75)\n",
    "IQR = Q3-Q1\n",
    "IQR"
   ]
  },
  {
   "cell_type": "code",
   "execution_count": 56,
   "id": "4043794c-ec49-479c-af39-4753a092aab3",
   "metadata": {},
   "outputs": [
    {
     "data": {
      "text/plain": [
       "(np.float64(-160.5), np.float64(403.5))"
      ]
     },
     "execution_count": 56,
     "metadata": {},
     "output_type": "execute_result"
    }
   ],
   "source": [
    "Min_Range = Q1 - (1.5 * IQR)\n",
    "Max_Range = Q3 + (1.5* IQR)\n",
    "Min_Range, Max_Range"
   ]
  },
  {
   "cell_type": "code",
   "execution_count": 57,
   "id": "df3d825a-23a6-4fee-b0eb-12da16066fae",
   "metadata": {},
   "outputs": [],
   "source": [
    "dataset['Total Spent'] = np.where(dataset['Total Spent'] > Max_Range, Max_Range, dataset['Total Spent'])"
   ]
  },
  {
   "cell_type": "code",
   "execution_count": 58,
   "id": "a766d3c2-5fa5-43d2-a93b-689944839703",
   "metadata": {},
   "outputs": [],
   "source": [
    "dataset['Total Spent'] = dataset['Total Spent'].fillna(dataset['Total Spent'].median())"
   ]
  },
  {
   "cell_type": "code",
   "execution_count": 59,
   "id": "71218018-d26f-4ffb-b903-b3c040a1da10",
   "metadata": {},
   "outputs": [],
   "source": [
    "dataset['Quantity'] = dataset['Quantity'].fillna(dataset['Quantity'].mean())"
   ]
  },
  {
   "cell_type": "code",
   "execution_count": 60,
   "id": "1b5b6227-e822-4f4c-afc0-1945316e9da5",
   "metadata": {},
   "outputs": [],
   "source": [
    "dataset['Price Per Unit'] = dataset['Price Per Unit'].fillna(dataset['Price Per Unit'].mean())"
   ]
  },
  {
   "cell_type": "code",
   "execution_count": 61,
   "id": "a436df65-7156-4669-bece-dc5c41dcf4e4",
   "metadata": {},
   "outputs": [],
   "source": [
    "category_counts = dataset.groupby('Category')['Item'].apply(lambda x : x.mode()[0] if not x.mode().empty else 'Unknown' )"
   ]
  },
  {
   "cell_type": "code",
   "execution_count": 62,
   "id": "e8702bdc-92f9-4fab-a065-9d7dfc84b4ac",
   "metadata": {},
   "outputs": [],
   "source": [
    "dataset['Item'] = dataset['Item'].fillna(dataset['Category'].map(category_counts))"
   ]
  },
  {
   "cell_type": "code",
   "execution_count": 21,
   "id": "74a14c50-bd38-4f30-ae63-65b1115dcc9f",
   "metadata": {},
   "outputs": [
    {
     "data": {
      "text/plain": [
       "Category\n",
       "Beverages                             1567\n",
       "Butchers                              1568\n",
       "Computers and electric accessories    1558\n",
       "Electric household essentials         1591\n",
       "Food                                  1588\n",
       "Furniture                             1591\n",
       "Milk Products                         1584\n",
       "Patisserie                            1528\n",
       "Name: Item, dtype: int64"
      ]
     },
     "execution_count": 21,
     "metadata": {},
     "output_type": "execute_result"
    }
   ],
   "source": [
    "groupwise_item = dataset.groupby('Category')['Item'].count()\n",
    "groupwise_item"
   ]
  },
  {
   "cell_type": "code",
   "execution_count": 22,
   "id": "f405cfda-6470-431a-9e12-29f577313450",
   "metadata": {},
   "outputs": [
    {
     "data": {
      "text/plain": [
       "(12575, 11)"
      ]
     },
     "execution_count": 22,
     "metadata": {},
     "output_type": "execute_result"
    }
   ],
   "source": [
    "dataset.shape"
   ]
  },
  {
   "cell_type": "code",
   "execution_count": 23,
   "id": "6c8c2153-3af8-4b36-a0a4-5e7b45bd0585",
   "metadata": {},
   "outputs": [],
   "source": [
    "dataset = dataset.drop_duplicates()"
   ]
  },
  {
   "cell_type": "code",
   "execution_count": 24,
   "id": "492abc95-dd84-4333-acc9-bc723574e8bb",
   "metadata": {},
   "outputs": [
    {
     "data": {
      "text/plain": [
       "(12575, 11)"
      ]
     },
     "execution_count": 24,
     "metadata": {},
     "output_type": "execute_result"
    }
   ],
   "source": [
    "dataset.shape"
   ]
  },
  {
   "cell_type": "code",
   "execution_count": 25,
   "id": "2dcc45f4-1e27-4f21-80df-cd61d3bb11f1",
   "metadata": {},
   "outputs": [],
   "source": [
    "dataset['Category'] = dataset['Category'].astype(\"str\")"
   ]
  },
  {
   "cell_type": "code",
   "execution_count": 66,
   "id": "32b32809-2e12-41b1-9b56-9dbeccffceb4",
   "metadata": {},
   "outputs": [],
   "source": [
    "dataset.to_csv(\"retail_store_sales_cleaned.csv\", index = False)"
   ]
  },
  {
   "cell_type": "code",
   "execution_count": 64,
   "id": "060f6c05-8e1b-46e9-be74-2c031bb72da2",
   "metadata": {},
   "outputs": [
    {
     "data": {
      "text/html": [
       "<div>\n",
       "<style scoped>\n",
       "    .dataframe tbody tr th:only-of-type {\n",
       "        vertical-align: middle;\n",
       "    }\n",
       "\n",
       "    .dataframe tbody tr th {\n",
       "        vertical-align: top;\n",
       "    }\n",
       "\n",
       "    .dataframe thead th {\n",
       "        text-align: right;\n",
       "    }\n",
       "</style>\n",
       "<table border=\"1\" class=\"dataframe\">\n",
       "  <thead>\n",
       "    <tr style=\"text-align: right;\">\n",
       "      <th></th>\n",
       "      <th>Transaction ID</th>\n",
       "      <th>Customer ID</th>\n",
       "      <th>Category</th>\n",
       "      <th>Item</th>\n",
       "      <th>Price Per Unit</th>\n",
       "      <th>Quantity</th>\n",
       "      <th>Total Spent</th>\n",
       "      <th>Payment Method</th>\n",
       "      <th>Location</th>\n",
       "      <th>Transaction Date</th>\n",
       "      <th>Discount Applied</th>\n",
       "    </tr>\n",
       "  </thead>\n",
       "  <tbody>\n",
       "    <tr>\n",
       "      <th>0</th>\n",
       "      <td>TXN_6867343</td>\n",
       "      <td>CUST_09</td>\n",
       "      <td>Patisserie</td>\n",
       "      <td>Item_10_PAT</td>\n",
       "      <td>18.500000</td>\n",
       "      <td>10.00000</td>\n",
       "      <td>185.0</td>\n",
       "      <td>Digital Wallet</td>\n",
       "      <td>Online</td>\n",
       "      <td>2024-04-08</td>\n",
       "      <td>True</td>\n",
       "    </tr>\n",
       "    <tr>\n",
       "      <th>1</th>\n",
       "      <td>TXN_3731986</td>\n",
       "      <td>CUST_22</td>\n",
       "      <td>Milk Products</td>\n",
       "      <td>Item_17_MILK</td>\n",
       "      <td>29.000000</td>\n",
       "      <td>9.00000</td>\n",
       "      <td>261.0</td>\n",
       "      <td>Digital Wallet</td>\n",
       "      <td>Online</td>\n",
       "      <td>2023-07-23</td>\n",
       "      <td>True</td>\n",
       "    </tr>\n",
       "    <tr>\n",
       "      <th>2</th>\n",
       "      <td>TXN_9303719</td>\n",
       "      <td>CUST_02</td>\n",
       "      <td>Butchers</td>\n",
       "      <td>Item_12_BUT</td>\n",
       "      <td>21.500000</td>\n",
       "      <td>2.00000</td>\n",
       "      <td>43.0</td>\n",
       "      <td>Credit Card</td>\n",
       "      <td>Online</td>\n",
       "      <td>2022-10-05</td>\n",
       "      <td>False</td>\n",
       "    </tr>\n",
       "    <tr>\n",
       "      <th>3</th>\n",
       "      <td>TXN_9458126</td>\n",
       "      <td>CUST_06</td>\n",
       "      <td>Beverages</td>\n",
       "      <td>Item_16_BEV</td>\n",
       "      <td>27.500000</td>\n",
       "      <td>9.00000</td>\n",
       "      <td>247.5</td>\n",
       "      <td>Credit Card</td>\n",
       "      <td>Online</td>\n",
       "      <td>2022-05-07</td>\n",
       "      <td>Unknown</td>\n",
       "    </tr>\n",
       "    <tr>\n",
       "      <th>4</th>\n",
       "      <td>TXN_4575373</td>\n",
       "      <td>CUST_05</td>\n",
       "      <td>Food</td>\n",
       "      <td>Item_6_FOOD</td>\n",
       "      <td>12.500000</td>\n",
       "      <td>7.00000</td>\n",
       "      <td>87.5</td>\n",
       "      <td>Digital Wallet</td>\n",
       "      <td>Online</td>\n",
       "      <td>2022-10-02</td>\n",
       "      <td>False</td>\n",
       "    </tr>\n",
       "    <tr>\n",
       "      <th>5</th>\n",
       "      <td>TXN_7482416</td>\n",
       "      <td>CUST_09</td>\n",
       "      <td>Patisserie</td>\n",
       "      <td>Item_12_PAT</td>\n",
       "      <td>23.365912</td>\n",
       "      <td>10.00000</td>\n",
       "      <td>200.0</td>\n",
       "      <td>Credit Card</td>\n",
       "      <td>Online</td>\n",
       "      <td>2023-11-30</td>\n",
       "      <td>Unknown</td>\n",
       "    </tr>\n",
       "    <tr>\n",
       "      <th>6</th>\n",
       "      <td>TXN_3652209</td>\n",
       "      <td>CUST_07</td>\n",
       "      <td>Food</td>\n",
       "      <td>Item_1_FOOD</td>\n",
       "      <td>5.000000</td>\n",
       "      <td>8.00000</td>\n",
       "      <td>40.0</td>\n",
       "      <td>Credit Card</td>\n",
       "      <td>In-store</td>\n",
       "      <td>2023-06-10</td>\n",
       "      <td>True</td>\n",
       "    </tr>\n",
       "    <tr>\n",
       "      <th>7</th>\n",
       "      <td>TXN_1372952</td>\n",
       "      <td>CUST_21</td>\n",
       "      <td>Furniture</td>\n",
       "      <td>Item_25_FUR</td>\n",
       "      <td>33.500000</td>\n",
       "      <td>5.53638</td>\n",
       "      <td>108.5</td>\n",
       "      <td>Digital Wallet</td>\n",
       "      <td>In-store</td>\n",
       "      <td>2024-04-02</td>\n",
       "      <td>True</td>\n",
       "    </tr>\n",
       "    <tr>\n",
       "      <th>8</th>\n",
       "      <td>TXN_9728486</td>\n",
       "      <td>CUST_23</td>\n",
       "      <td>Furniture</td>\n",
       "      <td>Item_16_FUR</td>\n",
       "      <td>27.500000</td>\n",
       "      <td>1.00000</td>\n",
       "      <td>27.5</td>\n",
       "      <td>Credit Card</td>\n",
       "      <td>In-store</td>\n",
       "      <td>2023-04-26</td>\n",
       "      <td>False</td>\n",
       "    </tr>\n",
       "    <tr>\n",
       "      <th>9</th>\n",
       "      <td>TXN_2722661</td>\n",
       "      <td>CUST_25</td>\n",
       "      <td>Butchers</td>\n",
       "      <td>Item_22_BUT</td>\n",
       "      <td>36.500000</td>\n",
       "      <td>3.00000</td>\n",
       "      <td>109.5</td>\n",
       "      <td>Cash</td>\n",
       "      <td>Online</td>\n",
       "      <td>2024-03-14</td>\n",
       "      <td>False</td>\n",
       "    </tr>\n",
       "    <tr>\n",
       "      <th>10</th>\n",
       "      <td>TXN_8776416</td>\n",
       "      <td>CUST_22</td>\n",
       "      <td>Butchers</td>\n",
       "      <td>Item_3_BUT</td>\n",
       "      <td>8.000000</td>\n",
       "      <td>9.00000</td>\n",
       "      <td>72.0</td>\n",
       "      <td>Cash</td>\n",
       "      <td>In-store</td>\n",
       "      <td>2024-12-14</td>\n",
       "      <td>True</td>\n",
       "    </tr>\n",
       "    <tr>\n",
       "      <th>11</th>\n",
       "      <td>TXN_5422631</td>\n",
       "      <td>CUST_09</td>\n",
       "      <td>Milk Products</td>\n",
       "      <td>Item_16_MILK</td>\n",
       "      <td>23.365912</td>\n",
       "      <td>8.00000</td>\n",
       "      <td>52.0</td>\n",
       "      <td>Digital Wallet</td>\n",
       "      <td>In-store</td>\n",
       "      <td>2025-01-12</td>\n",
       "      <td>True</td>\n",
       "    </tr>\n",
       "    <tr>\n",
       "      <th>12</th>\n",
       "      <td>TXN_5874772</td>\n",
       "      <td>CUST_23</td>\n",
       "      <td>Food</td>\n",
       "      <td>Item_2_FOOD</td>\n",
       "      <td>6.500000</td>\n",
       "      <td>7.00000</td>\n",
       "      <td>45.5</td>\n",
       "      <td>Cash</td>\n",
       "      <td>Online</td>\n",
       "      <td>2023-09-09</td>\n",
       "      <td>True</td>\n",
       "    </tr>\n",
       "    <tr>\n",
       "      <th>13</th>\n",
       "      <td>TXN_4413070</td>\n",
       "      <td>CUST_14</td>\n",
       "      <td>Patisserie</td>\n",
       "      <td>Item_24_PAT</td>\n",
       "      <td>39.500000</td>\n",
       "      <td>6.00000</td>\n",
       "      <td>237.0</td>\n",
       "      <td>Digital Wallet</td>\n",
       "      <td>In-store</td>\n",
       "      <td>2022-05-20</td>\n",
       "      <td>False</td>\n",
       "    </tr>\n",
       "    <tr>\n",
       "      <th>14</th>\n",
       "      <td>TXN_2490363</td>\n",
       "      <td>CUST_09</td>\n",
       "      <td>Milk Products</td>\n",
       "      <td>Item_16_MILK</td>\n",
       "      <td>27.500000</td>\n",
       "      <td>2.00000</td>\n",
       "      <td>55.0</td>\n",
       "      <td>Digital Wallet</td>\n",
       "      <td>Online</td>\n",
       "      <td>2022-05-22</td>\n",
       "      <td>Unknown</td>\n",
       "    </tr>\n",
       "    <tr>\n",
       "      <th>15</th>\n",
       "      <td>TXN_1809665</td>\n",
       "      <td>CUST_14</td>\n",
       "      <td>Beverages</td>\n",
       "      <td>Item_2_BEV</td>\n",
       "      <td>24.500000</td>\n",
       "      <td>5.53638</td>\n",
       "      <td>108.5</td>\n",
       "      <td>Credit Card</td>\n",
       "      <td>In-store</td>\n",
       "      <td>2022-05-11</td>\n",
       "      <td>Unknown</td>\n",
       "    </tr>\n",
       "    <tr>\n",
       "      <th>16</th>\n",
       "      <td>TXN_7563311</td>\n",
       "      <td>CUST_23</td>\n",
       "      <td>Patisserie</td>\n",
       "      <td>Item_17_PAT</td>\n",
       "      <td>29.000000</td>\n",
       "      <td>8.00000</td>\n",
       "      <td>232.0</td>\n",
       "      <td>Cash</td>\n",
       "      <td>Online</td>\n",
       "      <td>2024-11-16</td>\n",
       "      <td>True</td>\n",
       "    </tr>\n",
       "    <tr>\n",
       "      <th>17</th>\n",
       "      <td>TXN_9634894</td>\n",
       "      <td>CUST_15</td>\n",
       "      <td>Milk Products</td>\n",
       "      <td>Item_16_MILK</td>\n",
       "      <td>23.365912</td>\n",
       "      <td>10.00000</td>\n",
       "      <td>275.0</td>\n",
       "      <td>Digital Wallet</td>\n",
       "      <td>Online</td>\n",
       "      <td>2022-04-17</td>\n",
       "      <td>Unknown</td>\n",
       "    </tr>\n",
       "    <tr>\n",
       "      <th>18</th>\n",
       "      <td>TXN_4396807</td>\n",
       "      <td>CUST_17</td>\n",
       "      <td>Electric household essentials</td>\n",
       "      <td>Item_13_EHE</td>\n",
       "      <td>23.000000</td>\n",
       "      <td>1.00000</td>\n",
       "      <td>23.0</td>\n",
       "      <td>Digital Wallet</td>\n",
       "      <td>In-store</td>\n",
       "      <td>2022-02-07</td>\n",
       "      <td>False</td>\n",
       "    </tr>\n",
       "    <tr>\n",
       "      <th>19</th>\n",
       "      <td>TXN_4206593</td>\n",
       "      <td>CUST_01</td>\n",
       "      <td>Furniture</td>\n",
       "      <td>Item_25_FUR</td>\n",
       "      <td>35.000000</td>\n",
       "      <td>5.53638</td>\n",
       "      <td>108.5</td>\n",
       "      <td>Digital Wallet</td>\n",
       "      <td>Online</td>\n",
       "      <td>2025-01-13</td>\n",
       "      <td>False</td>\n",
       "    </tr>\n",
       "  </tbody>\n",
       "</table>\n",
       "</div>"
      ],
      "text/plain": [
       "   Transaction ID Customer ID                       Category          Item  \\\n",
       "0     TXN_6867343     CUST_09                     Patisserie   Item_10_PAT   \n",
       "1     TXN_3731986     CUST_22                  Milk Products  Item_17_MILK   \n",
       "2     TXN_9303719     CUST_02                       Butchers   Item_12_BUT   \n",
       "3     TXN_9458126     CUST_06                      Beverages   Item_16_BEV   \n",
       "4     TXN_4575373     CUST_05                           Food   Item_6_FOOD   \n",
       "5     TXN_7482416     CUST_09                     Patisserie   Item_12_PAT   \n",
       "6     TXN_3652209     CUST_07                           Food   Item_1_FOOD   \n",
       "7     TXN_1372952     CUST_21                      Furniture   Item_25_FUR   \n",
       "8     TXN_9728486     CUST_23                      Furniture   Item_16_FUR   \n",
       "9     TXN_2722661     CUST_25                       Butchers   Item_22_BUT   \n",
       "10    TXN_8776416     CUST_22                       Butchers    Item_3_BUT   \n",
       "11    TXN_5422631     CUST_09                  Milk Products  Item_16_MILK   \n",
       "12    TXN_5874772     CUST_23                           Food   Item_2_FOOD   \n",
       "13    TXN_4413070     CUST_14                     Patisserie   Item_24_PAT   \n",
       "14    TXN_2490363     CUST_09                  Milk Products  Item_16_MILK   \n",
       "15    TXN_1809665     CUST_14                      Beverages    Item_2_BEV   \n",
       "16    TXN_7563311     CUST_23                     Patisserie   Item_17_PAT   \n",
       "17    TXN_9634894     CUST_15                  Milk Products  Item_16_MILK   \n",
       "18    TXN_4396807     CUST_17  Electric household essentials   Item_13_EHE   \n",
       "19    TXN_4206593     CUST_01                      Furniture   Item_25_FUR   \n",
       "\n",
       "    Price Per Unit  Quantity  Total Spent  Payment Method  Location  \\\n",
       "0        18.500000  10.00000        185.0  Digital Wallet    Online   \n",
       "1        29.000000   9.00000        261.0  Digital Wallet    Online   \n",
       "2        21.500000   2.00000         43.0     Credit Card    Online   \n",
       "3        27.500000   9.00000        247.5     Credit Card    Online   \n",
       "4        12.500000   7.00000         87.5  Digital Wallet    Online   \n",
       "5        23.365912  10.00000        200.0     Credit Card    Online   \n",
       "6         5.000000   8.00000         40.0     Credit Card  In-store   \n",
       "7        33.500000   5.53638        108.5  Digital Wallet  In-store   \n",
       "8        27.500000   1.00000         27.5     Credit Card  In-store   \n",
       "9        36.500000   3.00000        109.5            Cash    Online   \n",
       "10        8.000000   9.00000         72.0            Cash  In-store   \n",
       "11       23.365912   8.00000         52.0  Digital Wallet  In-store   \n",
       "12        6.500000   7.00000         45.5            Cash    Online   \n",
       "13       39.500000   6.00000        237.0  Digital Wallet  In-store   \n",
       "14       27.500000   2.00000         55.0  Digital Wallet    Online   \n",
       "15       24.500000   5.53638        108.5     Credit Card  In-store   \n",
       "16       29.000000   8.00000        232.0            Cash    Online   \n",
       "17       23.365912  10.00000        275.0  Digital Wallet    Online   \n",
       "18       23.000000   1.00000         23.0  Digital Wallet  In-store   \n",
       "19       35.000000   5.53638        108.5  Digital Wallet    Online   \n",
       "\n",
       "   Transaction Date Discount Applied  \n",
       "0        2024-04-08             True  \n",
       "1        2023-07-23             True  \n",
       "2        2022-10-05            False  \n",
       "3        2022-05-07          Unknown  \n",
       "4        2022-10-02            False  \n",
       "5        2023-11-30          Unknown  \n",
       "6        2023-06-10             True  \n",
       "7        2024-04-02             True  \n",
       "8        2023-04-26            False  \n",
       "9        2024-03-14            False  \n",
       "10       2024-12-14             True  \n",
       "11       2025-01-12             True  \n",
       "12       2023-09-09             True  \n",
       "13       2022-05-20            False  \n",
       "14       2022-05-22          Unknown  \n",
       "15       2022-05-11          Unknown  \n",
       "16       2024-11-16             True  \n",
       "17       2022-04-17          Unknown  \n",
       "18       2022-02-07            False  \n",
       "19       2025-01-13            False  "
      ]
     },
     "execution_count": 64,
     "metadata": {},
     "output_type": "execute_result"
    }
   ],
   "source": [
    "dataset.head(20)"
   ]
  },
  {
   "cell_type": "code",
   "execution_count": null,
   "id": "a9465835-f06c-45ba-9101-33f7b608a1ff",
   "metadata": {},
   "outputs": [],
   "source": []
  }
 ],
 "metadata": {
  "kernelspec": {
   "display_name": "Python 3 (ipykernel)",
   "language": "python",
   "name": "python3"
  },
  "language_info": {
   "codemirror_mode": {
    "name": "ipython",
    "version": 3
   },
   "file_extension": ".py",
   "mimetype": "text/x-python",
   "name": "python",
   "nbconvert_exporter": "python",
   "pygments_lexer": "ipython3",
   "version": "3.12.4"
  }
 },
 "nbformat": 4,
 "nbformat_minor": 5
}
